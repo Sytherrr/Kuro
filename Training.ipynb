{
 "cells": [
  {
   "cell_type": "code",
   "execution_count": 5,
   "outputs": [
    {
     "name": "stdout",
     "output_type": "stream",
     "text": [
      "Requirement already satisfied: numpy in c:\\users\\ilham\\documents\\president university\\semester 6\\computer vision\\kuro\\venv\\lib\\site-packages (1.26.4)\n",
      "Requirement already satisfied: pandas in c:\\users\\ilham\\documents\\president university\\semester 6\\computer vision\\kuro\\venv\\lib\\site-packages (2.2.2)\n",
      "Requirement already satisfied: seaborn in c:\\users\\ilham\\documents\\president university\\semester 6\\computer vision\\kuro\\venv\\lib\\site-packages (0.13.2)\n",
      "Requirement already satisfied: matplotlib in c:\\users\\ilham\\documents\\president university\\semester 6\\computer vision\\kuro\\venv\\lib\\site-packages (3.9.1)\n",
      "Requirement already satisfied: pytz>=2020.1 in c:\\users\\ilham\\documents\\president university\\semester 6\\computer vision\\kuro\\venv\\lib\\site-packages (from pandas) (2024.1)\n",
      "Requirement already satisfied: python-dateutil>=2.8.2 in c:\\users\\ilham\\documents\\president university\\semester 6\\computer vision\\kuro\\venv\\lib\\site-packages (from pandas) (2.9.0.post0)\n",
      "Requirement already satisfied: tzdata>=2022.7 in c:\\users\\ilham\\documents\\president university\\semester 6\\computer vision\\kuro\\venv\\lib\\site-packages (from pandas) (2024.1)\n",
      "Requirement already satisfied: pillow>=8 in c:\\users\\ilham\\documents\\president university\\semester 6\\computer vision\\kuro\\venv\\lib\\site-packages (from matplotlib) (10.4.0)\n",
      "Requirement already satisfied: packaging>=20.0 in c:\\users\\ilham\\documents\\president university\\semester 6\\computer vision\\kuro\\venv\\lib\\site-packages (from matplotlib) (24.1)\n",
      "Requirement already satisfied: pyparsing>=2.3.1 in c:\\users\\ilham\\documents\\president university\\semester 6\\computer vision\\kuro\\venv\\lib\\site-packages (from matplotlib) (3.1.2)\n",
      "Requirement already satisfied: fonttools>=4.22.0 in c:\\users\\ilham\\documents\\president university\\semester 6\\computer vision\\kuro\\venv\\lib\\site-packages (from matplotlib) (4.53.1)\n",
      "Requirement already satisfied: importlib-resources>=3.2.0 in c:\\users\\ilham\\documents\\president university\\semester 6\\computer vision\\kuro\\venv\\lib\\site-packages (from matplotlib) (6.4.0)\n",
      "Requirement already satisfied: kiwisolver>=1.3.1 in c:\\users\\ilham\\documents\\president university\\semester 6\\computer vision\\kuro\\venv\\lib\\site-packages (from matplotlib) (1.4.5)\n",
      "Requirement already satisfied: contourpy>=1.0.1 in c:\\users\\ilham\\documents\\president university\\semester 6\\computer vision\\kuro\\venv\\lib\\site-packages (from matplotlib) (1.2.1)\n",
      "Requirement already satisfied: cycler>=0.10 in c:\\users\\ilham\\documents\\president university\\semester 6\\computer vision\\kuro\\venv\\lib\\site-packages (from matplotlib) (0.12.1)\n",
      "Requirement already satisfied: zipp>=3.1.0 in c:\\users\\ilham\\documents\\president university\\semester 6\\computer vision\\kuro\\venv\\lib\\site-packages (from importlib-resources>=3.2.0->matplotlib) (3.19.2)\n",
      "Requirement already satisfied: six>=1.5 in c:\\users\\ilham\\documents\\president university\\semester 6\\computer vision\\kuro\\venv\\lib\\site-packages (from python-dateutil>=2.8.2->pandas) (1.16.0)\n"
     ]
    },
    {
     "name": "stderr",
     "output_type": "stream",
     "text": [
      "WARNING: Ignoring invalid distribution -ensorflow-intel (c:\\users\\ilham\\documents\\president university\\semester 6\\computer vision\\kuro\\venv\\lib\\site-packages)\n",
      "WARNING: Ignoring invalid distribution -ensorflow-intel (c:\\users\\ilham\\documents\\president university\\semester 6\\computer vision\\kuro\\venv\\lib\\site-packages)\n",
      "WARNING: Ignoring invalid distribution -ensorflow-intel (c:\\users\\ilham\\documents\\president university\\semester 6\\computer vision\\kuro\\venv\\lib\\site-packages)\n",
      "WARNING: Ignoring invalid distribution -ensorflow-intel (c:\\users\\ilham\\documents\\president university\\semester 6\\computer vision\\kuro\\venv\\lib\\site-packages)\n",
      "WARNING: Ignoring invalid distribution -ensorflow-intel (c:\\users\\ilham\\documents\\president university\\semester 6\\computer vision\\kuro\\venv\\lib\\site-packages)\n",
      "WARNING: Ignoring invalid distribution -ensorflow-intel (c:\\users\\ilham\\documents\\president university\\semester 6\\computer vision\\kuro\\venv\\lib\\site-packages)\n",
      "\n",
      "[notice] A new release of pip available: 22.3.1 -> 24.1.2\n",
      "[notice] To update, run: python.exe -m pip install --upgrade pip\n"
     ]
    },
    {
     "name": "stdout",
     "output_type": "stream",
     "text": [
      "Requirement already satisfied: tensorflow in c:\\users\\ilham\\documents\\president university\\semester 6\\computer vision\\kuro\\venv\\lib\\site-packages (2.17.0)\n",
      "Requirement already satisfied: keras in c:\\users\\ilham\\documents\\president university\\semester 6\\computer vision\\kuro\\venv\\lib\\site-packages (3.4.1)\n",
      "Requirement already satisfied: scikit-learn in c:\\users\\ilham\\documents\\president university\\semester 6\\computer vision\\kuro\\venv\\lib\\site-packages (1.5.1)\n",
      "Requirement already satisfied: tensorflow-intel==2.17.0 in c:\\users\\ilham\\documents\\president university\\semester 6\\computer vision\\kuro\\venv\\lib\\site-packages (from tensorflow) (2.17.0)\n",
      "Requirement already satisfied: typing-extensions>=3.6.6 in c:\\users\\ilham\\documents\\president university\\semester 6\\computer vision\\kuro\\venv\\lib\\site-packages (from tensorflow-intel==2.17.0->tensorflow) (4.12.2)\n",
      "Requirement already satisfied: google-pasta>=0.1.1 in c:\\users\\ilham\\documents\\president university\\semester 6\\computer vision\\kuro\\venv\\lib\\site-packages (from tensorflow-intel==2.17.0->tensorflow) (0.2.0)\n",
      "Requirement already satisfied: packaging in c:\\users\\ilham\\documents\\president university\\semester 6\\computer vision\\kuro\\venv\\lib\\site-packages (from tensorflow-intel==2.17.0->tensorflow) (24.1)\n",
      "Requirement already satisfied: tensorflow-io-gcs-filesystem>=0.23.1 in c:\\users\\ilham\\documents\\president university\\semester 6\\computer vision\\kuro\\venv\\lib\\site-packages (from tensorflow-intel==2.17.0->tensorflow) (0.31.0)\n",
      "Requirement already satisfied: gast!=0.5.0,!=0.5.1,!=0.5.2,>=0.2.1 in c:\\users\\ilham\\documents\\president university\\semester 6\\computer vision\\kuro\\venv\\lib\\site-packages (from tensorflow-intel==2.17.0->tensorflow) (0.6.0)\n",
      "Requirement already satisfied: setuptools in c:\\users\\ilham\\documents\\president university\\semester 6\\computer vision\\kuro\\venv\\lib\\site-packages (from tensorflow-intel==2.17.0->tensorflow) (65.5.1)\n",
      "Requirement already satisfied: requests<3,>=2.21.0 in c:\\users\\ilham\\documents\\president university\\semester 6\\computer vision\\kuro\\venv\\lib\\site-packages (from tensorflow-intel==2.17.0->tensorflow) (2.32.3)\n",
      "Requirement already satisfied: protobuf!=4.21.0,!=4.21.1,!=4.21.2,!=4.21.3,!=4.21.4,!=4.21.5,<5.0.0dev,>=3.20.3 in c:\\users\\ilham\\documents\\president university\\semester 6\\computer vision\\kuro\\venv\\lib\\site-packages (from tensorflow-intel==2.17.0->tensorflow) (4.25.3)\n",
      "Requirement already satisfied: tensorboard<2.18,>=2.17 in c:\\users\\ilham\\documents\\president university\\semester 6\\computer vision\\kuro\\venv\\lib\\site-packages (from tensorflow-intel==2.17.0->tensorflow) (2.17.0)\n",
      "Requirement already satisfied: libclang>=13.0.0 in c:\\users\\ilham\\documents\\president university\\semester 6\\computer vision\\kuro\\venv\\lib\\site-packages (from tensorflow-intel==2.17.0->tensorflow) (18.1.1)\n",
      "Requirement already satisfied: ml-dtypes<0.5.0,>=0.3.1 in c:\\users\\ilham\\documents\\president university\\semester 6\\computer vision\\kuro\\venv\\lib\\site-packages (from tensorflow-intel==2.17.0->tensorflow) (0.3.2)\n",
      "Requirement already satisfied: opt-einsum>=2.3.2 in c:\\users\\ilham\\documents\\president university\\semester 6\\computer vision\\kuro\\venv\\lib\\site-packages (from tensorflow-intel==2.17.0->tensorflow) (3.3.0)\n",
      "Requirement already satisfied: six>=1.12.0 in c:\\users\\ilham\\documents\\president university\\semester 6\\computer vision\\kuro\\venv\\lib\\site-packages (from tensorflow-intel==2.17.0->tensorflow) (1.16.0)\n",
      "Requirement already satisfied: grpcio<2.0,>=1.24.3 in c:\\users\\ilham\\documents\\president university\\semester 6\\computer vision\\kuro\\venv\\lib\\site-packages (from tensorflow-intel==2.17.0->tensorflow) (1.65.0)\n",
      "Requirement already satisfied: absl-py>=1.0.0 in c:\\users\\ilham\\documents\\president university\\semester 6\\computer vision\\kuro\\venv\\lib\\site-packages (from tensorflow-intel==2.17.0->tensorflow) (2.1.0)\n",
      "Requirement already satisfied: wrapt>=1.11.0 in c:\\users\\ilham\\documents\\president university\\semester 6\\computer vision\\kuro\\venv\\lib\\site-packages (from tensorflow-intel==2.17.0->tensorflow) (1.16.0)\n",
      "Requirement already satisfied: flatbuffers>=24.3.25 in c:\\users\\ilham\\documents\\president university\\semester 6\\computer vision\\kuro\\venv\\lib\\site-packages (from tensorflow-intel==2.17.0->tensorflow) (24.3.25)\n",
      "Requirement already satisfied: h5py>=3.10.0 in c:\\users\\ilham\\documents\\president university\\semester 6\\computer vision\\kuro\\venv\\lib\\site-packages (from tensorflow-intel==2.17.0->tensorflow) (3.11.0)\n",
      "Requirement already satisfied: astunparse>=1.6.0 in c:\\users\\ilham\\documents\\president university\\semester 6\\computer vision\\kuro\\venv\\lib\\site-packages (from tensorflow-intel==2.17.0->tensorflow) (1.6.3)\n",
      "Requirement already satisfied: termcolor>=1.1.0 in c:\\users\\ilham\\documents\\president university\\semester 6\\computer vision\\kuro\\venv\\lib\\site-packages (from tensorflow-intel==2.17.0->tensorflow) (2.4.0)\n",
      "Requirement already satisfied: numpy<2.0.0,>=1.23.5 in c:\\users\\ilham\\documents\\president university\\semester 6\\computer vision\\kuro\\venv\\lib\\site-packages (from tensorflow-intel==2.17.0->tensorflow) (1.26.4)\n",
      "Requirement already satisfied: namex in c:\\users\\ilham\\documents\\president university\\semester 6\\computer vision\\kuro\\venv\\lib\\site-packages (from keras) (0.0.8)\n",
      "Requirement already satisfied: rich in c:\\users\\ilham\\documents\\president university\\semester 6\\computer vision\\kuro\\venv\\lib\\site-packages (from keras) (13.7.1)\n",
      "Requirement already satisfied: optree in c:\\users\\ilham\\documents\\president university\\semester 6\\computer vision\\kuro\\venv\\lib\\site-packages (from keras) (0.12.1)\n",
      "Requirement already satisfied: threadpoolctl>=3.1.0 in c:\\users\\ilham\\documents\\president university\\semester 6\\computer vision\\kuro\\venv\\lib\\site-packages (from scikit-learn) (3.5.0)\n",
      "Requirement already satisfied: joblib>=1.2.0 in c:\\users\\ilham\\documents\\president university\\semester 6\\computer vision\\kuro\\venv\\lib\\site-packages (from scikit-learn) (1.4.2)\n",
      "Requirement already satisfied: scipy>=1.6.0 in c:\\users\\ilham\\documents\\president university\\semester 6\\computer vision\\kuro\\venv\\lib\\site-packages (from scikit-learn) (1.13.1)\n",
      "Requirement already satisfied: pygments<3.0.0,>=2.13.0 in c:\\users\\ilham\\documents\\president university\\semester 6\\computer vision\\kuro\\venv\\lib\\site-packages (from rich->keras) (2.18.0)\n",
      "Requirement already satisfied: markdown-it-py>=2.2.0 in c:\\users\\ilham\\documents\\president university\\semester 6\\computer vision\\kuro\\venv\\lib\\site-packages (from rich->keras) (3.0.0)\n",
      "Requirement already satisfied: wheel<1.0,>=0.23.0 in c:\\users\\ilham\\documents\\president university\\semester 6\\computer vision\\kuro\\venv\\lib\\site-packages (from astunparse>=1.6.0->tensorflow-intel==2.17.0->tensorflow) (0.38.4)\n",
      "Requirement already satisfied: mdurl~=0.1 in c:\\users\\ilham\\documents\\president university\\semester 6\\computer vision\\kuro\\venv\\lib\\site-packages (from markdown-it-py>=2.2.0->rich->keras) (0.1.2)\n",
      "Requirement already satisfied: urllib3<3,>=1.21.1 in c:\\users\\ilham\\documents\\president university\\semester 6\\computer vision\\kuro\\venv\\lib\\site-packages (from requests<3,>=2.21.0->tensorflow-intel==2.17.0->tensorflow) (2.2.2)\n",
      "Requirement already satisfied: charset-normalizer<4,>=2 in c:\\users\\ilham\\documents\\president university\\semester 6\\computer vision\\kuro\\venv\\lib\\site-packages (from requests<3,>=2.21.0->tensorflow-intel==2.17.0->tensorflow) (3.3.2)\n",
      "Requirement already satisfied: idna<4,>=2.5 in c:\\users\\ilham\\documents\\president university\\semester 6\\computer vision\\kuro\\venv\\lib\\site-packages (from requests<3,>=2.21.0->tensorflow-intel==2.17.0->tensorflow) (3.7)\n",
      "Requirement already satisfied: certifi>=2017.4.17 in c:\\users\\ilham\\documents\\president university\\semester 6\\computer vision\\kuro\\venv\\lib\\site-packages (from requests<3,>=2.21.0->tensorflow-intel==2.17.0->tensorflow) (2024.7.4)\n",
      "Requirement already satisfied: werkzeug>=1.0.1 in c:\\users\\ilham\\documents\\president university\\semester 6\\computer vision\\kuro\\venv\\lib\\site-packages (from tensorboard<2.18,>=2.17->tensorflow-intel==2.17.0->tensorflow) (3.0.3)\n",
      "Requirement already satisfied: tensorboard-data-server<0.8.0,>=0.7.0 in c:\\users\\ilham\\documents\\president university\\semester 6\\computer vision\\kuro\\venv\\lib\\site-packages (from tensorboard<2.18,>=2.17->tensorflow-intel==2.17.0->tensorflow) (0.7.2)\n",
      "Requirement already satisfied: markdown>=2.6.8 in c:\\users\\ilham\\documents\\president university\\semester 6\\computer vision\\kuro\\venv\\lib\\site-packages (from tensorboard<2.18,>=2.17->tensorflow-intel==2.17.0->tensorflow) (3.6)\n",
      "Requirement already satisfied: importlib-metadata>=4.4 in c:\\users\\ilham\\documents\\president university\\semester 6\\computer vision\\kuro\\venv\\lib\\site-packages (from markdown>=2.6.8->tensorboard<2.18,>=2.17->tensorflow-intel==2.17.0->tensorflow) (8.0.0)\n",
      "Requirement already satisfied: MarkupSafe>=2.1.1 in c:\\users\\ilham\\documents\\president university\\semester 6\\computer vision\\kuro\\venv\\lib\\site-packages (from werkzeug>=1.0.1->tensorboard<2.18,>=2.17->tensorflow-intel==2.17.0->tensorflow) (2.1.5)\n",
      "Requirement already satisfied: zipp>=0.5 in c:\\users\\ilham\\documents\\president university\\semester 6\\computer vision\\kuro\\venv\\lib\\site-packages (from importlib-metadata>=4.4->markdown>=2.6.8->tensorboard<2.18,>=2.17->tensorflow-intel==2.17.0->tensorflow) (3.19.2)\n"
     ]
    },
    {
     "name": "stderr",
     "output_type": "stream",
     "text": [
      "WARNING: Ignoring invalid distribution -ensorflow-intel (c:\\users\\ilham\\documents\\president university\\semester 6\\computer vision\\kuro\\venv\\lib\\site-packages)\n",
      "WARNING: Ignoring invalid distribution -ensorflow-intel (c:\\users\\ilham\\documents\\president university\\semester 6\\computer vision\\kuro\\venv\\lib\\site-packages)\n",
      "WARNING: Ignoring invalid distribution -ensorflow-intel (c:\\users\\ilham\\documents\\president university\\semester 6\\computer vision\\kuro\\venv\\lib\\site-packages)\n",
      "WARNING: Ignoring invalid distribution -ensorflow-intel (c:\\users\\ilham\\documents\\president university\\semester 6\\computer vision\\kuro\\venv\\lib\\site-packages)\n",
      "WARNING: Ignoring invalid distribution -ensorflow-intel (c:\\users\\ilham\\documents\\president university\\semester 6\\computer vision\\kuro\\venv\\lib\\site-packages)\n",
      "WARNING: Ignoring invalid distribution -ensorflow-intel (c:\\users\\ilham\\documents\\president university\\semester 6\\computer vision\\kuro\\venv\\lib\\site-packages)\n",
      "\n",
      "[notice] A new release of pip available: 22.3.1 -> 24.1.2\n",
      "[notice] To update, run: python.exe -m pip install --upgrade pip\n"
     ]
    }
   ],
   "source": [
    "!pip install numpy pandas seaborn matplotlib\n",
    "!pip install tensorflow keras scikit-learn"
   ],
   "metadata": {
    "collapsed": false,
    "ExecuteTime": {
     "end_time": "2024-07-15T07:14:39.396339400Z",
     "start_time": "2024-07-15T07:14:34.213281300Z"
    }
   },
   "id": "initial_id"
  },
  {
   "cell_type": "code",
   "execution_count": 6,
   "outputs": [
    {
     "name": "stdout",
     "output_type": "stream",
     "text": [
      "Requirement already satisfied: tensorflow in c:\\users\\ilham\\documents\\president university\\semester 6\\computer vision\\kuro\\venv\\lib\\site-packages (2.17.0)\n",
      "Requirement already satisfied: keras in c:\\users\\ilham\\documents\\president university\\semester 6\\computer vision\\kuro\\venv\\lib\\site-packages (3.4.1)\n",
      "Requirement already satisfied: tensorflow-intel==2.17.0 in c:\\users\\ilham\\documents\\president university\\semester 6\\computer vision\\kuro\\venv\\lib\\site-packages (from tensorflow) (2.17.0)\n",
      "Requirement already satisfied: flatbuffers>=24.3.25 in c:\\users\\ilham\\documents\\president university\\semester 6\\computer vision\\kuro\\venv\\lib\\site-packages (from tensorflow-intel==2.17.0->tensorflow) (24.3.25)\n",
      "Requirement already satisfied: typing-extensions>=3.6.6 in c:\\users\\ilham\\documents\\president university\\semester 6\\computer vision\\kuro\\venv\\lib\\site-packages (from tensorflow-intel==2.17.0->tensorflow) (4.12.2)\n",
      "Requirement already satisfied: protobuf!=4.21.0,!=4.21.1,!=4.21.2,!=4.21.3,!=4.21.4,!=4.21.5,<5.0.0dev,>=3.20.3 in c:\\users\\ilham\\documents\\president university\\semester 6\\computer vision\\kuro\\venv\\lib\\site-packages (from tensorflow-intel==2.17.0->tensorflow) (4.25.3)\n",
      "Requirement already satisfied: requests<3,>=2.21.0 in c:\\users\\ilham\\documents\\president university\\semester 6\\computer vision\\kuro\\venv\\lib\\site-packages (from tensorflow-intel==2.17.0->tensorflow) (2.32.3)\n",
      "Requirement already satisfied: absl-py>=1.0.0 in c:\\users\\ilham\\documents\\president university\\semester 6\\computer vision\\kuro\\venv\\lib\\site-packages (from tensorflow-intel==2.17.0->tensorflow) (2.1.0)\n",
      "Requirement already satisfied: numpy<2.0.0,>=1.23.5 in c:\\users\\ilham\\documents\\president university\\semester 6\\computer vision\\kuro\\venv\\lib\\site-packages (from tensorflow-intel==2.17.0->tensorflow) (1.26.4)\n",
      "Requirement already satisfied: wrapt>=1.11.0 in c:\\users\\ilham\\documents\\president university\\semester 6\\computer vision\\kuro\\venv\\lib\\site-packages (from tensorflow-intel==2.17.0->tensorflow) (1.16.0)\n",
      "Requirement already satisfied: grpcio<2.0,>=1.24.3 in c:\\users\\ilham\\documents\\president university\\semester 6\\computer vision\\kuro\\venv\\lib\\site-packages (from tensorflow-intel==2.17.0->tensorflow) (1.65.0)\n",
      "Requirement already satisfied: astunparse>=1.6.0 in c:\\users\\ilham\\documents\\president university\\semester 6\\computer vision\\kuro\\venv\\lib\\site-packages (from tensorflow-intel==2.17.0->tensorflow) (1.6.3)\n",
      "Requirement already satisfied: libclang>=13.0.0 in c:\\users\\ilham\\documents\\president university\\semester 6\\computer vision\\kuro\\venv\\lib\\site-packages (from tensorflow-intel==2.17.0->tensorflow) (18.1.1)\n",
      "Requirement already satisfied: tensorboard<2.18,>=2.17 in c:\\users\\ilham\\documents\\president university\\semester 6\\computer vision\\kuro\\venv\\lib\\site-packages (from tensorflow-intel==2.17.0->tensorflow) (2.17.0)\n",
      "Requirement already satisfied: google-pasta>=0.1.1 in c:\\users\\ilham\\documents\\president university\\semester 6\\computer vision\\kuro\\venv\\lib\\site-packages (from tensorflow-intel==2.17.0->tensorflow) (0.2.0)\n",
      "Requirement already satisfied: h5py>=3.10.0 in c:\\users\\ilham\\documents\\president university\\semester 6\\computer vision\\kuro\\venv\\lib\\site-packages (from tensorflow-intel==2.17.0->tensorflow) (3.11.0)\n",
      "Requirement already satisfied: tensorflow-io-gcs-filesystem>=0.23.1 in c:\\users\\ilham\\documents\\president university\\semester 6\\computer vision\\kuro\\venv\\lib\\site-packages (from tensorflow-intel==2.17.0->tensorflow) (0.31.0)\n",
      "Requirement already satisfied: gast!=0.5.0,!=0.5.1,!=0.5.2,>=0.2.1 in c:\\users\\ilham\\documents\\president university\\semester 6\\computer vision\\kuro\\venv\\lib\\site-packages (from tensorflow-intel==2.17.0->tensorflow) (0.6.0)\n",
      "Requirement already satisfied: six>=1.12.0 in c:\\users\\ilham\\documents\\president university\\semester 6\\computer vision\\kuro\\venv\\lib\\site-packages (from tensorflow-intel==2.17.0->tensorflow) (1.16.0)\n",
      "Requirement already satisfied: ml-dtypes<0.5.0,>=0.3.1 in c:\\users\\ilham\\documents\\president university\\semester 6\\computer vision\\kuro\\venv\\lib\\site-packages (from tensorflow-intel==2.17.0->tensorflow) (0.3.2)\n",
      "Requirement already satisfied: packaging in c:\\users\\ilham\\documents\\president university\\semester 6\\computer vision\\kuro\\venv\\lib\\site-packages (from tensorflow-intel==2.17.0->tensorflow) (24.1)\n",
      "Requirement already satisfied: setuptools in c:\\users\\ilham\\documents\\president university\\semester 6\\computer vision\\kuro\\venv\\lib\\site-packages (from tensorflow-intel==2.17.0->tensorflow) (65.5.1)\n",
      "Requirement already satisfied: opt-einsum>=2.3.2 in c:\\users\\ilham\\documents\\president university\\semester 6\\computer vision\\kuro\\venv\\lib\\site-packages (from tensorflow-intel==2.17.0->tensorflow) (3.3.0)\n",
      "Requirement already satisfied: termcolor>=1.1.0 in c:\\users\\ilham\\documents\\president university\\semester 6\\computer vision\\kuro\\venv\\lib\\site-packages (from tensorflow-intel==2.17.0->tensorflow) (2.4.0)\n",
      "Requirement already satisfied: rich in c:\\users\\ilham\\documents\\president university\\semester 6\\computer vision\\kuro\\venv\\lib\\site-packages (from keras) (13.7.1)\n",
      "Requirement already satisfied: optree in c:\\users\\ilham\\documents\\president university\\semester 6\\computer vision\\kuro\\venv\\lib\\site-packages (from keras) (0.12.1)\n",
      "Requirement already satisfied: namex in c:\\users\\ilham\\documents\\president university\\semester 6\\computer vision\\kuro\\venv\\lib\\site-packages (from keras) (0.0.8)\n",
      "Requirement already satisfied: markdown-it-py>=2.2.0 in c:\\users\\ilham\\documents\\president university\\semester 6\\computer vision\\kuro\\venv\\lib\\site-packages (from rich->keras) (3.0.0)\n",
      "Requirement already satisfied: pygments<3.0.0,>=2.13.0 in c:\\users\\ilham\\documents\\president university\\semester 6\\computer vision\\kuro\\venv\\lib\\site-packages (from rich->keras) (2.18.0)\n",
      "Requirement already satisfied: wheel<1.0,>=0.23.0 in c:\\users\\ilham\\documents\\president university\\semester 6\\computer vision\\kuro\\venv\\lib\\site-packages (from astunparse>=1.6.0->tensorflow-intel==2.17.0->tensorflow) (0.38.4)\n",
      "Requirement already satisfied: mdurl~=0.1 in c:\\users\\ilham\\documents\\president university\\semester 6\\computer vision\\kuro\\venv\\lib\\site-packages (from markdown-it-py>=2.2.0->rich->keras) (0.1.2)\n",
      "Requirement already satisfied: certifi>=2017.4.17 in c:\\users\\ilham\\documents\\president university\\semester 6\\computer vision\\kuro\\venv\\lib\\site-packages (from requests<3,>=2.21.0->tensorflow-intel==2.17.0->tensorflow) (2024.7.4)\n",
      "Requirement already satisfied: idna<4,>=2.5 in c:\\users\\ilham\\documents\\president university\\semester 6\\computer vision\\kuro\\venv\\lib\\site-packages (from requests<3,>=2.21.0->tensorflow-intel==2.17.0->tensorflow) (3.7)\n",
      "Requirement already satisfied: charset-normalizer<4,>=2 in c:\\users\\ilham\\documents\\president university\\semester 6\\computer vision\\kuro\\venv\\lib\\site-packages (from requests<3,>=2.21.0->tensorflow-intel==2.17.0->tensorflow) (3.3.2)\n",
      "Requirement already satisfied: urllib3<3,>=1.21.1 in c:\\users\\ilham\\documents\\president university\\semester 6\\computer vision\\kuro\\venv\\lib\\site-packages (from requests<3,>=2.21.0->tensorflow-intel==2.17.0->tensorflow) (2.2.2)\n",
      "Requirement already satisfied: tensorboard-data-server<0.8.0,>=0.7.0 in c:\\users\\ilham\\documents\\president university\\semester 6\\computer vision\\kuro\\venv\\lib\\site-packages (from tensorboard<2.18,>=2.17->tensorflow-intel==2.17.0->tensorflow) (0.7.2)\n",
      "Requirement already satisfied: werkzeug>=1.0.1 in c:\\users\\ilham\\documents\\president university\\semester 6\\computer vision\\kuro\\venv\\lib\\site-packages (from tensorboard<2.18,>=2.17->tensorflow-intel==2.17.0->tensorflow) (3.0.3)\n",
      "Requirement already satisfied: markdown>=2.6.8 in c:\\users\\ilham\\documents\\president university\\semester 6\\computer vision\\kuro\\venv\\lib\\site-packages (from tensorboard<2.18,>=2.17->tensorflow-intel==2.17.0->tensorflow) (3.6)\n",
      "Requirement already satisfied: importlib-metadata>=4.4 in c:\\users\\ilham\\documents\\president university\\semester 6\\computer vision\\kuro\\venv\\lib\\site-packages (from markdown>=2.6.8->tensorboard<2.18,>=2.17->tensorflow-intel==2.17.0->tensorflow) (8.0.0)\n",
      "Requirement already satisfied: MarkupSafe>=2.1.1 in c:\\users\\ilham\\documents\\president university\\semester 6\\computer vision\\kuro\\venv\\lib\\site-packages (from werkzeug>=1.0.1->tensorboard<2.18,>=2.17->tensorflow-intel==2.17.0->tensorflow) (2.1.5)\n",
      "Requirement already satisfied: zipp>=0.5 in c:\\users\\ilham\\documents\\president university\\semester 6\\computer vision\\kuro\\venv\\lib\\site-packages (from importlib-metadata>=4.4->markdown>=2.6.8->tensorboard<2.18,>=2.17->tensorflow-intel==2.17.0->tensorflow) (3.19.2)\n"
     ]
    },
    {
     "name": "stderr",
     "output_type": "stream",
     "text": [
      "WARNING: Ignoring invalid distribution -ensorflow-intel (c:\\users\\ilham\\documents\\president university\\semester 6\\computer vision\\kuro\\venv\\lib\\site-packages)\n",
      "WARNING: Ignoring invalid distribution -ensorflow-intel (c:\\users\\ilham\\documents\\president university\\semester 6\\computer vision\\kuro\\venv\\lib\\site-packages)\n",
      "WARNING: Ignoring invalid distribution -ensorflow-intel (c:\\users\\ilham\\documents\\president university\\semester 6\\computer vision\\kuro\\venv\\lib\\site-packages)\n",
      "WARNING: Ignoring invalid distribution -ensorflow-intel (c:\\users\\ilham\\documents\\president university\\semester 6\\computer vision\\kuro\\venv\\lib\\site-packages)\n",
      "WARNING: Ignoring invalid distribution -ensorflow-intel (c:\\users\\ilham\\documents\\president university\\semester 6\\computer vision\\kuro\\venv\\lib\\site-packages)\n",
      "WARNING: Ignoring invalid distribution -ensorflow-intel (c:\\users\\ilham\\documents\\president university\\semester 6\\computer vision\\kuro\\venv\\lib\\site-packages)\n",
      "\n",
      "[notice] A new release of pip available: 22.3.1 -> 24.1.2\n",
      "[notice] To update, run: python.exe -m pip install --upgrade pip\n"
     ]
    }
   ],
   "source": [
    "!pip install --upgrade tensorflow keras"
   ],
   "metadata": {
    "collapsed": false,
    "ExecuteTime": {
     "end_time": "2024-07-15T07:14:53.475864700Z",
     "start_time": "2024-07-15T07:14:51.293823700Z"
    }
   },
   "id": "2784e56b2db5b72c"
  },
  {
   "cell_type": "code",
   "execution_count": 7,
   "outputs": [
    {
     "ename": "ImportError",
     "evalue": "cannot import name 'ImageDataGenerator' from 'keras.preprocessing.image' (C:\\Users\\ilham\\Documents\\President University\\Semester 6\\Computer Vision\\Kuro\\venv\\lib\\site-packages\\keras\\api\\preprocessing\\image\\__init__.py)",
     "output_type": "error",
     "traceback": [
      "\u001B[1;31m---------------------------------------------------------------------------\u001B[0m",
      "\u001B[1;31mImportError\u001B[0m                               Traceback (most recent call last)",
      "Cell \u001B[1;32mIn[7], line 11\u001B[0m\n\u001B[0;32m      8\u001B[0m warnings\u001B[38;5;241m.\u001B[39mfilterwarnings(\u001B[38;5;124m'\u001B[39m\u001B[38;5;124mignore\u001B[39m\u001B[38;5;124m'\u001B[39m)\n\u001B[0;32m     10\u001B[0m \u001B[38;5;28;01mimport\u001B[39;00m \u001B[38;5;21;01mtensorflow\u001B[39;00m \u001B[38;5;28;01mas\u001B[39;00m \u001B[38;5;21;01mtf\u001B[39;00m\n\u001B[1;32m---> 11\u001B[0m \u001B[38;5;28;01mfrom\u001B[39;00m \u001B[38;5;21;01mkeras\u001B[39;00m\u001B[38;5;21;01m.\u001B[39;00m\u001B[38;5;21;01mpreprocessing\u001B[39;00m\u001B[38;5;21;01m.\u001B[39;00m\u001B[38;5;21;01mimage\u001B[39;00m \u001B[38;5;28;01mimport\u001B[39;00m load_img, img_to_array, ImageDataGenerator\n\u001B[0;32m     12\u001B[0m \u001B[38;5;28;01mfrom\u001B[39;00m \u001B[38;5;21;01mkeras\u001B[39;00m\u001B[38;5;21;01m.\u001B[39;00m\u001B[38;5;21;01mlayers\u001B[39;00m \u001B[38;5;28;01mimport\u001B[39;00m Dense,Dropout,GlobalAveragePooling2D,MaxPooling2D,Flatten,Conv2D,BatchNormalization,Activation\n\u001B[0;32m     13\u001B[0m \u001B[38;5;28;01mfrom\u001B[39;00m \u001B[38;5;21;01mkeras\u001B[39;00m\u001B[38;5;21;01m.\u001B[39;00m\u001B[38;5;21;01mmodels\u001B[39;00m \u001B[38;5;28;01mimport\u001B[39;00m Model,Sequential\n",
      "\u001B[1;31mImportError\u001B[0m: cannot import name 'ImageDataGenerator' from 'keras.preprocessing.image' (C:\\Users\\ilham\\Documents\\President University\\Semester 6\\Computer Vision\\Kuro\\venv\\lib\\site-packages\\keras\\api\\preprocessing\\image\\__init__.py)"
     ]
    }
   ],
   "source": [
    "import os\n",
    "import numpy as np\n",
    "import pandas as pd\n",
    "import seaborn as sns\n",
    "import matplotlib.pyplot as plt\n",
    "\n",
    "import warnings\n",
    "warnings.filterwarnings('ignore')\n",
    "\n",
    "import tensorflow as tf\n",
    "from keras.preprocessing.image import load_img, img_to_array, ImageDataGenerator\n",
    "from keras.layers import Dense,Dropout,GlobalAveragePooling2D,MaxPooling2D,Flatten,Conv2D,BatchNormalization,Activation\n",
    "from keras.models import Model,Sequential\n",
    "from tensorflow.keras.optimizers import Adam\n",
    "from keras import regularizers\n",
    "from tensorflow.keras.utils import plot_model\n",
    "from keras.preprocessing import image\n",
    "from sklearn.metrics import confusion_matrix\n",
    "import itertools"
   ],
   "metadata": {
    "collapsed": false,
    "ExecuteTime": {
     "end_time": "2024-07-15T07:14:58.985368500Z",
     "start_time": "2024-07-15T07:14:58.289221500Z"
    }
   },
   "id": "3fcb7dbf5201e087"
  },
  {
   "cell_type": "code",
   "execution_count": 9,
   "outputs": [],
   "source": [
    "file_path = 'Dataset/Satisfaction_Dataset.zip'"
   ],
   "metadata": {
    "collapsed": false,
    "ExecuteTime": {
     "end_time": "2024-07-15T07:15:32.039493100Z",
     "start_time": "2024-07-15T07:15:32.032661100Z"
    }
   },
   "id": "965a394dbe13014"
  },
  {
   "cell_type": "code",
   "execution_count": 10,
   "outputs": [
    {
     "name": "stdout",
     "output_type": "stream",
     "text": [
      "Zip file extracted successfully\n"
     ]
    }
   ],
   "source": [
    "from zipfile import ZipFile\n",
    "with ZipFile(file_path , 'r') as ZipFile:\n",
    "  ZipFile.extractall()\n",
    "  print('Zip file extracted successfully')"
   ],
   "metadata": {
    "collapsed": false,
    "ExecuteTime": {
     "end_time": "2024-07-15T07:15:43.871203Z",
     "start_time": "2024-07-15T07:15:34.555259400Z"
    }
   },
   "id": "78c029db2189144b"
  },
  {
   "cell_type": "code",
   "execution_count": 11,
   "outputs": [],
   "source": [
    "train_dir = 'Dataset/Satisfaction_Dataset/train'\n",
    "val_dir = 'Dataset/Satisfaction_Dataset/test'"
   ],
   "metadata": {
    "collapsed": false,
    "ExecuteTime": {
     "end_time": "2024-07-15T07:18:47.429691600Z",
     "start_time": "2024-07-15T07:18:47.421837100Z"
    }
   },
   "id": "81aaac51bd13cce6"
  },
  {
   "cell_type": "code",
   "execution_count": 12,
   "outputs": [
    {
     "data": {
      "text/plain": "<Figure size 1800x2200 with 3 Axes>",
      "image/png": "[encoded data removed]"
     },
     "metadata": {},
     "output_type": "display_data"
    }
   ],
   "source": [
    "img_size = 48\n",
    "emotion_list = ['neutral', 'satisfied', 'unsatisfied']\n",
    "\n",
    "plt.figure(figsize=(18,22))\n",
    "i = 1\n",
    "for expression in emotion_list:\n",
    "    img = load_img((train_dir + '/' + expression +'/'+ os.listdir(train_dir + '/' + expression)[59]))\n",
    "    plt.subplot(1,7,i)\n",
    "    plt.imshow(img)\n",
    "    plt.title(expression)\n",
    "    plt.axis('off')\n",
    "    i += 1\n",
    "plt.show()"
   ],
   "metadata": {
    "collapsed": false,
    "ExecuteTime": {
     "end_time": "2024-07-15T07:19:17.410568700Z",
     "start_time": "2024-07-15T07:19:16.860902600Z"
    }
   },
   "id": "b21afb3aea2c7c49"
  },
  {
   "cell_type": "code",
   "execution_count": 13,
   "outputs": [
    {
     "ename": "NameError",
     "evalue": "name 'ImageDataGenerator' is not defined",
     "output_type": "error",
     "traceback": [
      "\u001B[1;31m---------------------------------------------------------------------------\u001B[0m",
      "\u001B[1;31mNameError\u001B[0m                                 Traceback (most recent call last)",
      "Cell \u001B[1;32mIn[13], line 2\u001B[0m\n\u001B[0;32m      1\u001B[0m \u001B[38;5;66;03m# Rescale train data and validation data.\u001B[39;00m\n\u001B[1;32m----> 2\u001B[0m datagen_train \u001B[38;5;241m=\u001B[39m \u001B[43mImageDataGenerator\u001B[49m(rescale \u001B[38;5;241m=\u001B[39m \u001B[38;5;241m1.\u001B[39m\u001B[38;5;241m/\u001B[39m\u001B[38;5;241m255\u001B[39m,)\n\u001B[0;32m      3\u001B[0m datagen_val \u001B[38;5;241m=\u001B[39m ImageDataGenerator(rescale \u001B[38;5;241m=\u001B[39m \u001B[38;5;241m1.\u001B[39m\u001B[38;5;241m/\u001B[39m\u001B[38;5;241m255\u001B[39m,)\n\u001B[0;32m      5\u001B[0m \u001B[38;5;28mprint\u001B[39m(\u001B[38;5;124m'\u001B[39m\u001B[38;5;124mAbove data generator functions have been created.\u001B[39m\u001B[38;5;124m'\u001B[39m)\n",
      "\u001B[1;31mNameError\u001B[0m: name 'ImageDataGenerator' is not defined"
     ]
    }
   ],
   "source": [
    "# Rescale train data and validation data.\n",
    "datagen_train = ImageDataGenerator(rescale = 1./255,)\n",
    "datagen_val = ImageDataGenerator(rescale = 1./255,)\n",
    "\n",
    "print('Above data generator functions have been created.')"
   ],
   "metadata": {
    "collapsed": false,
    "ExecuteTime": {
     "end_time": "2024-07-15T07:20:06.731936200Z",
     "start_time": "2024-07-15T07:20:06.688818700Z"
    }
   },
   "id": "f680fdcaf7418d4f"
  },
  {
   "cell_type": "code",
   "execution_count": 14,
   "outputs": [
    {
     "ename": "NameError",
     "evalue": "name 'datagen_train' is not defined",
     "output_type": "error",
     "traceback": [
      "\u001B[1;31m---------------------------------------------------------------------------\u001B[0m",
      "\u001B[1;31mNameError\u001B[0m                                 Traceback (most recent call last)",
      "Cell \u001B[1;32mIn[14], line 6\u001B[0m\n\u001B[0;32m      3\u001B[0m batch_size \u001B[38;5;241m=\u001B[39m \u001B[38;5;241m64\u001B[39m\n\u001B[0;32m      5\u001B[0m \u001B[38;5;66;03m# Training data.\u001B[39;00m\n\u001B[1;32m----> 6\u001B[0m train_set \u001B[38;5;241m=\u001B[39m \u001B[43mdatagen_train\u001B[49m\u001B[38;5;241m.\u001B[39mflow_from_directory(directory\u001B[38;5;241m=\u001B[39mtrain_dir,\n\u001B[0;32m      7\u001B[0m                                               target_size\u001B[38;5;241m=\u001B[39m(img_size,img_size),\n\u001B[0;32m      8\u001B[0m                                               batch_size \u001B[38;5;241m=\u001B[39m batch_size,\n\u001B[0;32m      9\u001B[0m                                               color_mode \u001B[38;5;241m=\u001B[39m \u001B[38;5;124m'\u001B[39m\u001B[38;5;124mgrayscale\u001B[39m\u001B[38;5;124m'\u001B[39m,\n\u001B[0;32m     10\u001B[0m                                               class_mode \u001B[38;5;241m=\u001B[39m \u001B[38;5;124m\"\u001B[39m\u001B[38;5;124mcategorical\u001B[39m\u001B[38;5;124m\"\u001B[39m,\n\u001B[0;32m     11\u001B[0m                                               shuffle\u001B[38;5;241m=\u001B[39m\u001B[38;5;28;01mTrue\u001B[39;00m\n\u001B[0;32m     12\u001B[0m                                               )\n\u001B[0;32m     14\u001B[0m \u001B[38;5;66;03m# Validation data.\u001B[39;00m\n\u001B[0;32m     15\u001B[0m val_set \u001B[38;5;241m=\u001B[39m datagen_train\u001B[38;5;241m.\u001B[39mflow_from_directory(directory\u001B[38;5;241m=\u001B[39mval_dir,\n\u001B[0;32m     16\u001B[0m                                               target_size\u001B[38;5;241m=\u001B[39m(img_size,img_size),\n\u001B[0;32m     17\u001B[0m                                               batch_size \u001B[38;5;241m=\u001B[39m batch_size,\n\u001B[1;32m   (...)\u001B[0m\n\u001B[0;32m     20\u001B[0m                                               shuffle\u001B[38;5;241m=\u001B[39m\u001B[38;5;28;01mFalse\u001B[39;00m\n\u001B[0;32m     21\u001B[0m                                               )\n",
      "\u001B[1;31mNameError\u001B[0m: name 'datagen_train' is not defined"
     ]
    }
   ],
   "source": [
    "# Data augmentation.\n",
    "img_size = 48\n",
    "batch_size = 64\n",
    "\n",
    "# Training data.\n",
    "train_set = datagen_train.flow_from_directory(directory=train_dir,\n",
    "                                              target_size=(img_size,img_size),\n",
    "                                              batch_size = batch_size,\n",
    "                                              color_mode = 'grayscale',\n",
    "                                              class_mode = \"categorical\",\n",
    "                                              shuffle=True\n",
    "                                              )\n",
    "\n",
    "# Validation data.\n",
    "val_set = datagen_train.flow_from_directory(directory=val_dir,\n",
    "                                              target_size=(img_size,img_size),\n",
    "                                              batch_size = batch_size,\n",
    "                                              color_mode = 'grayscale',\n",
    "                                              class_mode = \"categorical\",\n",
    "                                              shuffle=False\n",
    "                                              )\n",
    "\n",
    "print('Train and Validation sets have been created.')"
   ],
   "metadata": {
    "collapsed": false,
    "ExecuteTime": {
     "end_time": "2024-07-15T07:20:20.202972300Z",
     "start_time": "2024-07-15T07:20:20.178940500Z"
    }
   },
   "id": "57fab1b50e21f637"
  },
  {
   "cell_type": "code",
   "execution_count": null,
   "outputs": [],
   "source": [],
   "metadata": {
    "collapsed": false
   },
   "id": "608e13da87c5a5ff"
  }
 ],
 "metadata": {
  "kernelspec": {
   "display_name": "Python 3",
   "language": "python",
   "name": "python3"
  },
  "language_info": {
   "codemirror_mode": {
    "name": "ipython",
    "version": 2
   },
   "file_extension": ".py",
   "mimetype": "text/x-python",
   "name": "python",
   "nbconvert_exporter": "python",
   "pygments_lexer": "ipython2",
   "version": "2.7.6"
  }
 },
 "nbformat": 4,
 "nbformat_minor": 5
}
